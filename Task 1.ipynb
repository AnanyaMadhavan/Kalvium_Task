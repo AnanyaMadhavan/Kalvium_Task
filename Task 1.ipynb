{
 "cells": [
  {
   "cell_type": "code",
   "execution_count": 1,
   "id": "ee776d01",
   "metadata": {},
   "outputs": [
    {
     "name": "stdout",
     "output_type": "stream",
     "text": [
      "Requirement already satisfied: requests in c:\\users\\anany\\videos\\m\\lib\\site-packages (2.26.0)\n",
      "Requirement already satisfied: beautifulsoup4 in c:\\users\\anany\\videos\\m\\lib\\site-packages (4.10.0)\n",
      "Requirement already satisfied: urllib3<1.27,>=1.21.1 in c:\\users\\anany\\videos\\m\\lib\\site-packages (from requests) (1.26.7)\n",
      "Requirement already satisfied: charset-normalizer~=2.0.0 in c:\\users\\anany\\videos\\m\\lib\\site-packages (from requests) (2.0.4)\n",
      "Requirement already satisfied: idna<4,>=2.5 in c:\\users\\anany\\videos\\m\\lib\\site-packages (from requests) (3.2)\n",
      "Requirement already satisfied: certifi>=2017.4.17 in c:\\users\\anany\\videos\\m\\lib\\site-packages (from requests) (2021.10.8)\n",
      "Requirement already satisfied: soupsieve>1.2 in c:\\users\\anany\\videos\\m\\lib\\site-packages (from beautifulsoup4) (2.2.1)\n",
      "Note: you may need to restart the kernel to use updated packages.\n"
     ]
    }
   ],
   "source": [
    "pip install requests beautifulsoup4"
   ]
  },
  {
   "cell_type": "code",
   "execution_count": 2,
   "id": "e2a27b10",
   "metadata": {},
   "outputs": [
    {
     "name": "stdout",
     "output_type": "stream",
     "text": [
      "{'Party': 'Telugu Desam - TDP', 'Won': '135', 'Leading': '0', 'Total': '135'}\n",
      "{'Party': 'Janasena Party - JnP', 'Won': '21', 'Leading': '0', 'Total': '21'}\n",
      "{'Party': 'Yuvajana Sramika Rythu Congress Party - YSRCP', 'Won': '11', 'Leading': '0', 'Total': '11'}\n",
      "{'Party': 'Bharatiya Janata Party - BJP', 'Won': '8', 'Leading': '0', 'Total': '8'}\n",
      "{'Party': 'Bharatiya Janata Party - BJP', 'Won': '78', 'Leading': '0', 'Total': '78'}\n",
      "{'Party': 'Biju Janata Dal - BJD', 'Won': '51', 'Leading': '0', 'Total': '51'}\n",
      "{'Party': 'Indian National Congress - INC', 'Won': '14', 'Leading': '0', 'Total': '14'}\n",
      "{'Party': 'Communist Party of India  (Marxist) - CPI(M)', 'Won': '1', 'Leading': '0', 'Total': '1'}\n",
      "{'Party': 'Independent - IND', 'Won': '3', 'Leading': '0', 'Total': '3'}\n"
     ]
    }
   ],
   "source": [
    "import requests\n",
    "from bs4 import BeautifulSoup\n",
    "\n",
    "urls = [\n",
    "    \"https://results.eci.gov.in/AcResultByeJune2024/\",\n",
    "    \"https://results.eci.gov.in/AcResultGenJune2024/partywiseresult-S01.htm\",\n",
    "    \"https://results.eci.gov.in/AcResultGenJune2024/partywiseresult-S18.htm\"\n",
    "]\n",
    "\n",
    "def scrape_url(url):\n",
    "    response = requests.get(url)\n",
    "    if response.status_code == 200:\n",
    "        soup = BeautifulSoup(response.content, 'html.parser')\n",
    "        return soup\n",
    "    else:\n",
    "        print(f\"Failed to retrieve the page: {url}\")\n",
    "        return None\n",
    "\n",
    "def parse_results(soup):\n",
    "    results = []\n",
    "    tables = soup.find_all('table')\n",
    "    for table in tables:\n",
    "        headers = [header.text for header in table.find_all('th')]\n",
    "        rows = table.find_all('tr')\n",
    "        for row in rows:\n",
    "            cells = row.find_all('td')\n",
    "            if cells:\n",
    "                result = {headers[i]: cells[i].text.strip() for i in range(len(cells))}\n",
    "                results.append(result)\n",
    "    return results\n",
    "\n",
    "all_results = []\n",
    "for url in urls:\n",
    "    soup = scrape_url(url)\n",
    "    if soup:\n",
    "        results = parse_results(soup)\n",
    "        all_results.extend(results)\n",
    "\n",
    "for result in all_results:\n",
    "    print(result)\n",
    "\n",
    "import json\n",
    "with open('election_results.json', 'w') as f:\n",
    "    json.dump(all_results, f, indent=4)"
   ]
  },
  {
   "cell_type": "code",
   "execution_count": null,
   "id": "5817b12a",
   "metadata": {},
   "outputs": [],
   "source": []
  }
 ],
 "metadata": {
  "kernelspec": {
   "display_name": "Python 3 (ipykernel)",
   "language": "python",
   "name": "python3"
  },
  "language_info": {
   "codemirror_mode": {
    "name": "ipython",
    "version": 3
   },
   "file_extension": ".py",
   "mimetype": "text/x-python",
   "name": "python",
   "nbconvert_exporter": "python",
   "pygments_lexer": "ipython3",
   "version": "3.9.7"
  }
 },
 "nbformat": 4,
 "nbformat_minor": 5
}
